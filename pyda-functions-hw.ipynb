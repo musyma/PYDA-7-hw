{
 "cells": [
  {
   "cell_type": "markdown",
   "metadata": {},
   "source": [
    "## Задание 1"
   ]
  },
  {
   "cell_type": "markdown",
   "metadata": {},
   "source": [
    "Дан список вида:"
   ]
  },
  {
   "cell_type": "code",
   "execution_count": 1,
   "metadata": {},
   "outputs": [],
   "source": [
    "data = [\n",
    "    [13, 25, 23, 34],\n",
    "    [45, 32, 44, 47],\n",
    "    [12, 33, 23, 95],\n",
    "    [13, 53, 34, 35]\n",
    "]"
   ]
  },
  {
   "cell_type": "markdown",
   "metadata": {},
   "source": [
    "Напишите функцию, которая возвращает сумму элементов на диагонали. Т. е. 13+32+23+35.  \n",
    "Список может быть любой длины, но всегда является \"квадратным\" (количество элементов во вложенных списках равно их количеству)."
   ]
  },
  {
   "cell_type": "code",
   "execution_count": 2,
   "metadata": {},
   "outputs": [
    {
     "data": {
      "text/plain": [
       "103"
      ]
     },
     "execution_count": 2,
     "metadata": {},
     "output_type": "execute_result"
    }
   ],
   "source": [
    "\n",
    "l=len(data)\n",
    "result=0\n",
    "for x in map(lambda x: data[x][x], range(0,l)):\n",
    "    result+=x\n",
    "result\n"
   ]
  },
  {
   "cell_type": "markdown",
   "metadata": {},
   "source": [
    "## Задание 2"
   ]
  },
  {
   "cell_type": "markdown",
   "metadata": {},
   "source": [
    "Напишите функцию, возвращающую сумму первых n чисел Фибоначчи (для этого вам может понадобится ознакомиться с рекурсией)."
   ]
  },
  {
   "cell_type": "code",
   "execution_count": 3,
   "metadata": {},
   "outputs": [
    {
     "name": "stdout",
     "output_type": "stream",
     "text": [
      "Ввведите кол-во первый чисел Фибоначчи 5\n",
      "12\n"
     ]
    }
   ],
   "source": [
    "# воспользуемся формулой бине\n",
    "#Например, 5 первых чисел 1+1+2+3+5+8=12 \n",
    "f=0\n",
    "def bine(x):\n",
    "    resultt=int(((((1+5**(.5))/2)**x-((1-5**(.5))/2)**x))/(5**(.5)))\n",
    "    return resultt\n",
    "n=int(input('Ввведите кол-во первый чисел Фибоначчи '))\n",
    "for i in map(bine,range(1,n+1)):\n",
    "    f+=i\n",
    "print(f)\n"
   ]
  },
  {
   "cell_type": "markdown",
   "metadata": {},
   "source": [
    "## Задание 3\n"
   ]
  },
  {
   "cell_type": "markdown",
   "metadata": {},
   "source": [
    "Напишите функцию, преобразующую произвольный список вида ['2018-01-01', 'yandex', 'cpc', 100] (он может быть любой длины) в словарь {'2018-01-01': {'yandex': {'cpc': 100}}}"
   ]
  },
  {
   "cell_type": "code",
   "execution_count": 57,
   "metadata": {},
   "outputs": [
    {
     "name": "stdout",
     "output_type": "stream",
     "text": [
      "{'2018-01-01': {'yandex': {'cpc': 100}}}\n"
     ]
    }
   ],
   "source": [
    "l=['2018-01-01', 'yandex', 'cpc',100] \n",
    "d={}\n",
    "t=l[-1]\n",
    "\n",
    "for i in range(len(l)-1,0,-1):\n",
    "    d[l[i-1]]=t\n",
    "    t=dict(d)\n",
    "    d={}\n",
    "print(t)"
   ]
  },
  {
   "cell_type": "markdown",
   "metadata": {},
   "source": [
    "## Задание 4"
   ]
  },
  {
   "cell_type": "markdown",
   "metadata": {},
   "source": [
    "Вы работаете секретарем и вам постоянно приходят различные документы. Вы должны быть очень внимательны, чтобы не потерять ни один документ. Каталог документов хранится в следующем виде:"
   ]
  },
  {
   "cell_type": "code",
   "execution_count": 1,
   "metadata": {},
   "outputs": [],
   "source": [
    "documents = [\n",
    "    {'type': 'passport', 'number': '2207 876234', 'name': 'Василий Гупкин'},\n",
    "    {'type': 'invoice', 'number': '11-2', 'name': 'Геннадий Покемонов'},\n",
    "    {'type': 'insurance', 'number': '10006', 'name': 'Аристарх Павлов'}\n",
    "]"
   ]
  },
  {
   "cell_type": "markdown",
   "metadata": {},
   "source": [
    "Перечень полок, на которых находятся документы хранится в следующем виде:"
   ]
  },
  {
   "cell_type": "code",
   "execution_count": 2,
   "metadata": {},
   "outputs": [],
   "source": [
    "directories = {\n",
    "    '1': ['2207 876234', '11-2', '5455 028765'],\n",
    "    '2': ['10006', '5400 028765', '5455 002299'],\n",
    "    '3': []\n",
    "}"
   ]
  },
  {
   "cell_type": "markdown",
   "metadata": {},
   "source": [
    "Необходимо реализовать пользовательские команды (внимание! это не название функций, которые должны быть выразительными, а команды, которые вводит пользователь, чтобы получить необходимый результат):\n",
    "  \n",
    "- p – people – команда, которая спросит номер документа и выведет имя человека, которому он принадлежит;  \n",
    "- s – shelf – команда, которая спросит номер документа и выведет номер полки, на которой он находится  \n",
    "Правильно обработайте ситуацию, когда пользователь будет вводить несуществующий документ.\n",
    "- l – list – команда, которая выведет список всех документов в формате   \n",
    "**passport \"2207 876234\" \"Василий Гупкин\"**  \n",
    "- as – add shelf – команда, которая спросит номер новой полки и добавит ее в перечень\n",
    "- d – delete – команда, которая спросит номер документа и удалит его из каталога и из перечня полок. Предусмотрите сценарий, когда пользователь вводит несуществующий документ;  \n",
    "- m – move – команда, которая спросит номер документа и целевую полку и переместит его с текущей полки на целевую. Корректно обработайте кейсы, когда пользователь пытается переместить несуществующий документ или переместить документ на несуществующую полку;  \n",
    "- a – add – команда, которая добавит новый документ в каталог и в перечень полок, спросив его номер, тип, имя владельца и номер полки, на котором он будет храниться."
   ]
  },
  {
   "cell_type": "code",
   "execution_count": 52,
   "metadata": {},
   "outputs": [
    {
     "name": "stdout",
     "output_type": "stream",
     "text": [
      "Введите команду  p – people,  s – shelf, l – list, as – add shelf, d – delete, m – move, a – add: a\n",
      "Ввведите тип нового документа ticket\n",
      "Введите номер нового документа 123456\n",
      "Введите ФИО нового документа Truman\n",
      "Введите номер полки,где будет располлагаться новый документ 2\n"
     ]
    }
   ],
   "source": [
    "def document_name(doc, number,self=None): #ф-ция выводящая имя по номеру документа\n",
    "    for w in range(0, len(doc)):\n",
    "        if doc[w]['number']==number:\n",
    "            return doc[w]['name'],w #ФИО, номер строки\n",
    "    return self\n",
    "\n",
    "def keys_with_value(shelf, number,self=None): #ф-ция для вывода номера полки по номеру документа\n",
    "    for k, v in shelf.items():\n",
    "        for r in range(0, len(v)):\n",
    "            if v[r] == number:\n",
    "                return k,r #k-номер ключа, r-номер элемента\n",
    "    return self\n",
    "\n",
    "def delete_doc_shelf (shelf,number):#удаление документа из полки\n",
    "    z=keys_with_value(shelf,number)\n",
    "    if z!=None:\n",
    "        del shelf[z[0]][z[1]]\n",
    "    \n",
    "def delete_doc_doc (doc,number):#удаление документа из документов\n",
    "    zz=document_name(doc,number)\n",
    "    if zz!=None:\n",
    "        del doc[zz[1]]\n",
    "    else: print('документа не существует')\n",
    "\n",
    "\n",
    "\n",
    "\n",
    "def comand(x):\n",
    "\n",
    "    if x=='p':   # команда, которая спросит номер документа и выведет имя человека, которому он принадлежит;\n",
    "        y=input('Введите номер документа: ')\n",
    "        z=document_name(documents,y)\n",
    "        if z!=None:\n",
    "            print(z[0])\n",
    "        else: print('ДОкумента не существует')\n",
    "        #z=[print('Имя: '+documents[w]['name']) for w in range(0, len(documents)) if documents[w]['number']==y ]  \n",
    "        \n",
    "    elif x=='s':  # команда, которая спросит номер документа и выведет номер полки, на которой он находится\n",
    "        yy=input('Введите номер документа: ')\n",
    "        zz=keys_with_value(directories, yy)\n",
    "        if zz!=None:\n",
    "            print(zz[0])\n",
    "        else: print('Документа не существует')\n",
    "        \n",
    "    elif x=='l':  #команда, которая выведет список всех документов в формате passport \"2207 876234\" \"Василий Гупкин\"\n",
    "        for y in range(len(documents)):\n",
    "            print(documents[y]['type']+' '+'\"{}\"'.format(documents[y]['number'])+' '+'\"{}\"'.format(documents[y]['name'])\n",
    "                 )\n",
    "            \n",
    "    elif x=='as': #команда, которая спросит номер новой полки и добавит ее в перечень\n",
    "        directories.setdefault(input('Введите номер новой полки: '),[])\n",
    "        \n",
    "    elif x=='d':  #команда, которая спросит номер документа и удалит его из каталога и из перечня полок. Предусмотрите сценарий, когда пользователь вводит несуществующий документ;\n",
    "        number=input('Введите номер документа ') \n",
    "        delete_doc_doc(documents, number)\n",
    "        delete_doc_shelf(directories, number)\n",
    "        \n",
    "    elif x=='m': #переносим на другую полку\n",
    "        number_doc=input('Введите номер документа ')\n",
    "        cel_shelf=input('Введите номер целевой полки ')\n",
    "        t1=document_name(documents,number_doc)\n",
    "        t2=keys_with_value(directories,number_doc)\n",
    "        if t1==None or t2==None:\n",
    "            print('Проверьте правильность введенныъх данных')\n",
    "        else:\n",
    "            delete_doc_shelf(directories, number_doc) #удаляем с полки документ\n",
    "            directories[cel_shelf].append(number_doc) #добавляем док на нужную полку\n",
    "            \n",
    "    elif x=='a': #новый документ\n",
    "        new_doc={}\n",
    "        doc_new_type=input('Ввведите тип нового документа ')\n",
    "        new_doc['type']=doc_new_type\n",
    "        doc_new_number=input('Введите номер нового документа ')\n",
    "        new_doc['number']=doc_new_number\n",
    "        doc_new_fio=input('Введите ФИО нового документа ')\n",
    "        new_doc['name']=doc_new_fio\n",
    "        doc_new_shelf=input('Введите номер полки,где будет располлагаться новый документ ')\n",
    "        documents.append(new_doc)\n",
    "        directories[doc_new_shelf].append(doc_new_number)\n",
    "        \n",
    "    else:\n",
    "        print('Неправильный ввод команды')\n",
    "x=comand(input('Введите команду  p – people,  s – shelf, l – list, as – add shelf, d – delete, m – move, a – add: '))\n",
    " \n"
   ]
  },
  {
   "cell_type": "code",
   "execution_count": 53,
   "metadata": {},
   "outputs": [
    {
     "data": {
      "text/plain": [
       "{'1': ['2207 876234', '5455 028765'],\n",
       " '2': ['5400 028765', '5455 002299', '123456'],\n",
       " '3': [],\n",
       " '4': ['10006'],\n",
       " '5': []}"
      ]
     },
     "execution_count": 53,
     "metadata": {},
     "output_type": "execute_result"
    }
   ],
   "source": [
    "#проверка\n",
    "directories"
   ]
  },
  {
   "cell_type": "code",
   "execution_count": 56,
   "metadata": {},
   "outputs": [
    {
     "data": {
      "text/plain": [
       "[{'type': 'passport', 'number': '2207 876234', 'name': 'Василий Гупкин'},\n",
       " {'type': 'insurance', 'number': '10006', 'name': 'Аристарх Павлов'},\n",
       " {'type': 'ticket', 'number': '123456', 'name': 'Truman'}]"
      ]
     },
     "execution_count": 56,
     "metadata": {},
     "output_type": "execute_result"
    }
   ],
   "source": [
    "#проверка\n",
    "documents"
   ]
  }
 ],
 "metadata": {
  "kernelspec": {
   "display_name": "Python 3",
   "language": "python",
   "name": "python3"
  },
  "language_info": {
   "codemirror_mode": {
    "name": "ipython",
    "version": 3
   },
   "file_extension": ".py",
   "mimetype": "text/x-python",
   "name": "python",
   "nbconvert_exporter": "python",
   "pygments_lexer": "ipython3",
   "version": "3.7.4"
  }
 },
 "nbformat": 4,
 "nbformat_minor": 2
}

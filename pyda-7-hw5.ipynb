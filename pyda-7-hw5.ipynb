{
 "cells": [
  {
   "cell_type": "code",
   "execution_count": 1,
   "metadata": {},
   "outputs": [],
   "source": []
  },
  {
   "cell_type": "markdown",
   "metadata": {},
   "source": [
    "# Домашнее задание\n",
    "1. Переведите содержимое файла purchase_log.txt в словарь purchases вида:\n",
    "```python\n",
    "{'1840e0b9d4': 'Продукты', ...}\n",
    "```\n",
    "\n",
    "2. Для каждого user_id в файле visit_log.csv добавьте третий столбец с категорией покупки (если покупка была).\n",
    "\n",
    "3. Запишите в файл funnel.csv визиты из файла visit_log.csv, в которых были покупки с указанием категории.\n",
    "\n",
    "Учтите условия на данные:\n",
    "- содержимое purchase_log.txt помещается в оперативную память компьютера\n",
    "- содержимое visit_log.csv - нет; используйте только построчную обработку этого файла"
   ]
  },
  {
   "cell_type": "markdown",
   "metadata": {},
   "source": [
    "# "
   ]
  },
  {
   "cell_type": "code",
   "execution_count": 171,
   "metadata": {},
   "outputs": [
    {
     "name": "stdout",
     "output_type": "stream",
     "text": [
      "{'1840e0b9d4': 'Продукты', '4e4f90fcfb': 'Электроника', 'afea8d72fc': 'Электроника', '373a6055fe': 'Бытовая техника', '9b2ab046f3': 'Электроника'}\n"
     ]
    }
   ],
   "source": [
    "#задание 1\n",
    "import json\n",
    "with open('purchase_log.txt',encoding='utf-8') as t:\n",
    "    data=t.readlines()\n",
    "    i=0\n",
    "    dict={}\n",
    "    for line in data:\n",
    "        line_d=json.loads(line)\n",
    "        if i>0:            #первую строку с названиями не берем\n",
    "            dict[line_d['user_id']]=line_d['category']\n",
    "        i+=1\n",
    "        if i>5: #ограничение для просмотра результатов\n",
    "            break\n",
    "    print(dict)\n",
    "    "
   ]
  },
  {
   "cell_type": "code",
   "execution_count": 265,
   "metadata": {},
   "outputs": [],
   "source": [
    "#задание 2 (создала файл с доп.столбцом)\n",
    "with open('visit_log.csv',encoding='utf-8') as visit, open ('purchase_log.txt',encoding='utf-8') as pur, open ('visit2.csv','w') as full:\n",
    "    data=pur.readlines()\n",
    "    i=0 \n",
    "    for line in visit:\n",
    "        cat='No'\n",
    "        user, source=line.strip().split(',')\n",
    "        for line2 in data:\n",
    "            d=json.loads(line2)\n",
    "            if d['user_id']==user:\n",
    "                cat=d['category']\n",
    "                break\n",
    "        full.write(user+','+source+','+cat+'\\n')\n",
    "        i+=1\n",
    "        if i>100: #ограничение для частичной отработки\n",
    "            break\n",
    "\n",
    "    \n"
   ]
  },
  {
   "cell_type": "code",
   "execution_count": 272,
   "metadata": {},
   "outputs": [
    {
     "name": "stdout",
     "output_type": "stream",
     "text": [
      "user_id,source,category\n",
      "\n",
      "1840e0b9d4,other,Продукты\n",
      "\n",
      "4e4f90fcfb,context,Электроника\n",
      "\n",
      "afea8d72fc,other,Электроника\n",
      "\n"
     ]
    }
   ],
   "source": [
    "#задание 3 (воспользуемся ранее созданным файлом)\n",
    "with open ('funnel.csv','w') as sales, open ('visit2.csv') as full:\n",
    "    \n",
    "    for line in full:\n",
    "        user, source, product=line.strip().split(',')\n",
    "        if product!='No':\n",
    "            sales.write(line)\n",
    "            print(line) #проверка\n",
    "\n",
    "        \n",
    "    "
   ]
  },
  {
   "cell_type": "code",
   "execution_count": 3,
   "metadata": {},
   "outputs": [],
   "source": [
    "#задание 3 (если нет ранее созданного файла)\n",
    "with open('visit_log.csv',encoding='utf-8') as visit, open ('purchase_log.txt',encoding='utf-8') as pur, open ('funnel2.csv','w') as full:\n",
    "    data=pur.readlines()\n",
    "    i=0 \n",
    "    for line in visit:\n",
    "        cat=''\n",
    "        user, source=line.strip().split(',')\n",
    "        for line2 in data:\n",
    "            d=json.loads(line2)\n",
    "            if d['user_id']==user:\n",
    "                cat=d['category']\n",
    "                full.write(user+','+source+','+cat+'\\n')\n",
    "                break\n",
    "        i+=1\n",
    "        if i>100: #ограничение для частичной отработки\n",
    "            break"
   ]
  }
 ],
 "metadata": {
  "kernelspec": {
   "display_name": "Python 3",
   "language": "python",
   "name": "python3"
  },
  "language_info": {
   "codemirror_mode": {
    "name": "ipython",
    "version": 3
   },
   "file_extension": ".py",
   "mimetype": "text/x-python",
   "name": "python",
   "nbconvert_exporter": "python",
   "pygments_lexer": "ipython3",
   "version": "3.7.4"
  }
 },
 "nbformat": 4,
 "nbformat_minor": 2
}

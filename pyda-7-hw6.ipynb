{
 "cells": [
  {
   "cell_type": "markdown",
   "metadata": {},
   "source": [
    "# Домашнее задание к лекции \"Регулярные выражения\"\n",
    "Для зачета необходимо выполнить 4 задания.  \n",
    "Для зачета с отличием – все."
   ]
  },
  {
   "cell_type": "markdown",
   "metadata": {},
   "source": [
    "Напишите функцию, которая принимает на вход строку и проверяет является ли она валидным транспортным номером. Если да, то функция должна возвращать отдельно номер и регион."
   ]
  },
  {
   "cell_type": "code",
   "execution_count": 22,
   "metadata": {},
   "outputs": [
    {
     "name": "stdout",
     "output_type": "stream",
     "text": [
      "Введите транспортный номер  р8459ро77\n",
      "Номер: р8459ро, код региона: 77\n"
     ]
    }
   ],
   "source": [
    "def transport_number():\n",
    "    import re\n",
    "    zapros=input('Введите транспортный номер  ')\n",
    "    number='([а-яА-Я]{1,2}[0-9]{4}[а-яА-Я]{2})([0-9]{2})'\n",
    "    t=re.findall(number, zapros)\n",
    "    print(f'Номер: {t[0][0]}, код региона: {t[0][1]}' if t else 'Не корректный номер, пример ввода П7867АП99')\n",
    "transport_number()"
   ]
  },
  {
   "cell_type": "markdown",
   "metadata": {},
   "source": [
    "## Задание 2"
   ]
  },
  {
   "cell_type": "markdown",
   "metadata": {},
   "source": [
    "Напишите функцию, которая проверяет e-mail адрес на валидность по стандарту RFC822: http://www.w3.org/Protocols/rfc822/. Для этого постарайтесь написать (в крайнем случае найти) самый полный шаблон для проверки e-mail адресов через регулярное выражение. Разберитесь и напишите примеры, какие ваш шаблон может не охватить."
   ]
  },
  {
   "cell_type": "code",
   "execution_count": 16,
   "metadata": {},
   "outputs": [
    {
     "name": "stdout",
     "output_type": "stream",
     "text": [
      "Введите emaildfd@dfdf\n",
      "имейл не валиден\n"
     ]
    }
   ],
   "source": [
    "#не охватит -две точки подряд в имени нельзя, пробелы в имени могут быть только,если имя в кавычках,некоторые символы подряд несколько писать нельзя и т.д.\n",
    "def valid_email():\n",
    "    import re\n",
    "    text=input('Введите email')\n",
    "    regex_mails='([0-9a-zA-Z.*+/=#$?^_`{|}~-]{1,64})@(\\w+)\\.[a-zA-Z]'\n",
    "    if re.findall(regex_mails,text):\n",
    "        print('имейл валиден')\n",
    "    else:\n",
    "        print('имейл не валиден')\n",
    "valid_email()    "
   ]
  },
  {
   "cell_type": "code",
   "execution_count": null,
   "metadata": {},
   "outputs": [],
   "source": []
  },
  {
   "cell_type": "markdown",
   "metadata": {},
   "source": [
    "## Задание 3\n",
    "Напишите функцию, которая будет удалять все последовательные повторы слов из заданной строки."
   ]
  },
  {
   "cell_type": "code",
   "execution_count": 20,
   "metadata": {},
   "outputs": [
    {
     "name": "stdout",
     "output_type": "stream",
     "text": [
      "Введите текст:  Привет привет, как как дела, Лутоня Лутоня? Всё всё хорошо хорошо! Дай 5 5!\n",
      "Привет, как дела, Лутоня? Всё хорошо! Дай 5!\n"
     ]
    }
   ],
   "source": [
    "def del_repeats():\n",
    "    import re\n",
    "    text=input('Введите текст:  ')\n",
    "    #re.sub(r\"(\\b(\\w+\\1)+)\\b\", \"\", text2)\n",
    "    #print( re.sub(r'\\b([^\\W\\d_]+)(\\s+\\1)+\\b', r'\\1', re.sub(r'\\W+', ' ', text2).strip(), flags=re.I) )\n",
    "    print(re.sub(r'\\b([^\\W_]+)(\\s+\\1)+\\b',r'\\1', text, flags=re.I)) \n",
    "# текст для проверки text='Привет привет, как как дела, Лутоня Лутоня? Всё всё хорошо хорошо! Дай 5 5!'\n",
    "del_repeats()"
   ]
  },
  {
   "cell_type": "markdown",
   "metadata": {},
   "source": [
    "# Задание 4\n",
    "Напишите функцию, которая будет проверять номер сотового телефона на валидность, если он валиден, то переводить его в формат:   \n",
    "+7(xxx)-xxx-xx-xx  \n",
    "Постарайтесь предусмотреть как можно больше адекватных форматов изначального ввода номера.\n",
    "Примеры правильных и неправильных форматов:\n",
    "- +7 955 555-55-55;\n",
    "- 955555555;\n",
    "- 8(955)555-55-55;\n",
    "- +7 955 555 55 55;\n",
    "- 7(955) 555-55-55;\n",
    "- +7 955+555+55+55."
   ]
  },
  {
   "cell_type": "code",
   "execution_count": 16,
   "metadata": {},
   "outputs": [
    {
     "name": "stdout",
     "output_type": "stream",
     "text": [
      "Введите номер телефона +7-(787) 786 56 56\n",
      "+7(787)-786-56-56\n"
     ]
    }
   ],
   "source": [
    "def true_phone():\n",
    "    import re\n",
    "    phone=input('Введите номер телефона ')\n",
    "    r=re.sub(r'[-+()\\s]','',phone)\n",
    "    if re.findall(r'((7|8)([0-9]{10}))', r):\n",
    "        print(f'+7({r[1:4]})-{r[4:7]}-{r[7:9]}-{r[9:11]}')\n",
    "    elif re.findall(r'([0-9]{10})', r):\n",
    "        print(f'+7({r[0:3]})-{r[3:6]}-{r[6:8]}-{r[8:10]}')\n",
    "    else:\n",
    "        print('Номер введен некорректно')\n",
    "true_phone()\n",
    "\n",
    "           "
   ]
  },
  {
   "cell_type": "code",
   "execution_count": null,
   "metadata": {},
   "outputs": [],
   "source": []
  }
 ],
 "metadata": {
  "kernelspec": {
   "display_name": "Python 3",
   "language": "python",
   "name": "python3"
  },
  "language_info": {
   "codemirror_mode": {
    "name": "ipython",
    "version": 3
   },
   "file_extension": ".py",
   "mimetype": "text/x-python",
   "name": "python",
   "nbconvert_exporter": "python",
   "pygments_lexer": "ipython3",
   "version": "3.7.4"
  }
 },
 "nbformat": 4,
 "nbformat_minor": 2
}
